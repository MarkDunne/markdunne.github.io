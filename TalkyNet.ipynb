{
 "cells": [
  {
   "cell_type": "code",
   "execution_count": 2,
   "metadata": {},
   "outputs": [],
   "source": [
    "import numpy as np\n",
    "from scipy.io import wavfile"
   ]
  },
  {
   "cell_type": "code",
   "execution_count": 4,
   "metadata": {},
   "outputs": [],
   "source": [
    "data = np.full((128 * 5), 5000)"
   ]
  },
  {
   "cell_type": "code",
   "execution_count": 8,
   "metadata": {},
   "outputs": [
    {
     "data": {
      "text/plain": [
       "array([[5],\n",
       "       [5],\n",
       "       [5],\n",
       "       [5],\n",
       "       [5],\n",
       "       [5],\n",
       "       [5],\n",
       "       [5],\n",
       "       [5],\n",
       "       [5]])"
      ]
     },
     "execution_count": 8,
     "metadata": {},
     "output_type": "execute_result"
    }
   ],
   "source": [
    "np.full((10, 1), 5)"
   ]
  },
  {
   "cell_type": "code",
   "execution_count": 11,
   "metadata": {},
   "outputs": [],
   "source": [
    "wavfile.write('something.wav', 44100, np.full((44100 * 5, 1), 5000))"
   ]
  },
  {
   "cell_type": "code",
   "execution_count": 42,
   "metadata": {},
   "outputs": [],
   "source": [
    "wavfile.write('foo.wav', 44100, np.random.uniform(0, 32767, (40000, 1)).astype('int16'))"
   ]
  },
  {
   "cell_type": "code",
   "execution_count": 39,
   "metadata": {},
   "outputs": [],
   "source": [
    "data = np.linspace(-32767, 32767, 44100 * 5).reshape(44100 * 5, 1).astype('int16')"
   ]
  },
  {
   "cell_type": "code",
   "execution_count": 56,
   "metadata": {},
   "outputs": [],
   "source": [
    "wavfile.write('foo.wav', 44100, data)"
   ]
  },
  {
   "cell_type": "code",
   "execution_count": 62,
   "metadata": {},
   "outputs": [],
   "source": [
    "wavfile.write('foo.wav', 44100, np.random.uniform(230, 255, data.shape).astype('int8'))"
   ]
  },
  {
   "cell_type": "code",
   "execution_count": 68,
   "metadata": {},
   "outputs": [],
   "source": [
    "sampling_rate = 44100\n",
    "\n",
    "\n",
    "def seno(frequency, duration=2, sampling_rate=44100.0):\n",
    "    return np.array([np.sin(n * 2 * np.pi * frequency / sampling_rate) for n in range(int(duration * sampling_rate))]).reshape(-1, 1)\n",
    "\n",
    "# Example:\n",
    "wavfile.write('ejemplo_seno.wav', sampling_rate, seno(1000).astype('int16'))"
   ]
  },
  {
   "cell_type": "code",
   "execution_count": 59,
   "metadata": {},
   "outputs": [
    {
     "data": {
      "text/plain": [
       "array([[   1],\n",
       "       [ -25],\n",
       "       [ -96],\n",
       "       ...,\n",
       "       [ -11],\n",
       "       [ 103],\n",
       "       [-116]], dtype=int8)"
      ]
     },
     "execution_count": 59,
     "metadata": {},
     "output_type": "execute_result"
    }
   ],
   "source": [
    "np.random.uniform(0, 255, data.shape).astype('int8')"
   ]
  },
  {
   "cell_type": "code",
   "execution_count": 54,
   "metadata": {},
   "outputs": [
    {
     "data": {
      "text/plain": [
       "array([[-20140],\n",
       "       [ 20797],\n",
       "       [  9422],\n",
       "       ...,\n",
       "       [ 18560],\n",
       "       [ -9107],\n",
       "       [-12682]], dtype=int16)"
      ]
     },
     "execution_count": 54,
     "metadata": {},
     "output_type": "execute_result"
    }
   ],
   "source": [
    "np.random.uniform(-32767, 32767, data.shape).astype('int16')"
   ]
  },
  {
   "cell_type": "code",
   "execution_count": 70,
   "metadata": {},
   "outputs": [
    {
     "ename": "error",
     "evalue": "required argument is not an integer",
     "output_type": "error",
     "traceback": [
      "\u001b[0;31m---------------------------------------------------------------------------\u001b[0m",
      "\u001b[0;31merror\u001b[0m                                     Traceback (most recent call last)",
      "\u001b[0;32m<ipython-input-70-321df3877c98>\u001b[0m in \u001b[0;36m<module>\u001b[0;34m()\u001b[0m\n\u001b[1;32m     28\u001b[0m \u001b[0mssignal\u001b[0m \u001b[0;34m=\u001b[0m \u001b[0;34m''\u001b[0m\u001b[0;34m\u001b[0m\u001b[0m\n\u001b[1;32m     29\u001b[0m \u001b[0;32mfor\u001b[0m \u001b[0mi\u001b[0m \u001b[0;32min\u001b[0m \u001b[0mrange\u001b[0m\u001b[0;34m(\u001b[0m\u001b[0mlen\u001b[0m\u001b[0;34m(\u001b[0m\u001b[0msignal\u001b[0m\u001b[0;34m)\u001b[0m\u001b[0;34m)\u001b[0m\u001b[0;34m:\u001b[0m\u001b[0;34m\u001b[0m\u001b[0m\n\u001b[0;32m---> 30\u001b[0;31m    \u001b[0mssignal\u001b[0m \u001b[0;34m+=\u001b[0m \u001b[0mwave\u001b[0m\u001b[0;34m.\u001b[0m\u001b[0mstruct\u001b[0m\u001b[0;34m.\u001b[0m\u001b[0mpack\u001b[0m\u001b[0;34m(\u001b[0m\u001b[0;34m'h'\u001b[0m\u001b[0;34m,\u001b[0m\u001b[0msignal\u001b[0m\u001b[0;34m[\u001b[0m\u001b[0mi\u001b[0m\u001b[0;34m]\u001b[0m\u001b[0;34m)\u001b[0m \u001b[0;31m# transform to binary\u001b[0m\u001b[0;34m\u001b[0m\u001b[0m\n\u001b[0m\u001b[1;32m     31\u001b[0m \u001b[0;34m\u001b[0m\u001b[0m\n\u001b[1;32m     32\u001b[0m \u001b[0mf\u001b[0m \u001b[0;34m=\u001b[0m \u001b[0mSoundFile\u001b[0m\u001b[0;34m(\u001b[0m\u001b[0mssignal\u001b[0m\u001b[0;34m)\u001b[0m\u001b[0;34m\u001b[0m\u001b[0m\n",
      "\u001b[0;31merror\u001b[0m: required argument is not an integer"
     ]
    }
   ],
   "source": [
    "import numpy as N\n",
    "import wave\n",
    "\n",
    "class SoundFile:\n",
    "   def  __init__(self, signal):\n",
    "       self.file = wave.open('test.wav', 'wb')\n",
    "       self.signal = signal\n",
    "       self.sr = 44100\n",
    "\n",
    "   def write(self):\n",
    "       self.file.setparams((1, 2, self.sr, 44100*4, 'NONE', 'noncompressed'))\n",
    "       self.file.writeframes(self.signal)\n",
    "       self.file.close()\n",
    "\n",
    "# let's prepare signal\n",
    "duration = 4 # seconds\n",
    "samplerate = 44100 # Hz\n",
    "samples = duration*samplerate\n",
    "frequency = 440 # Hz\n",
    "period = samplerate / float(frequency) # in sample points\n",
    "omega = N.pi * 2 / period\n",
    "\n",
    "xaxis = N.arange(int(period),dtype = N.float) * omega\n",
    "ydata = 16384 * N.sin(xaxis)\n",
    "\n",
    "signal = N.resize(ydata, (samples,))\n",
    "\n",
    "ssignal = ''\n",
    "for i in range(len(signal)):\n",
    "   ssignal += wave.struct.pack('h',signal[i]) # transform to binary\n",
    "\n",
    "f = SoundFile(ssignal)\n",
    "f.write()\n",
    "print('file written')"
   ]
  }
 ],
 "metadata": {
  "kernelspec": {
   "display_name": "Python 3",
   "language": "python",
   "name": "python3"
  },
  "language_info": {
   "codemirror_mode": {
    "name": "ipython",
    "version": 3
   },
   "file_extension": ".py",
   "mimetype": "text/x-python",
   "name": "python",
   "nbconvert_exporter": "python",
   "pygments_lexer": "ipython3",
   "version": "3.6.5"
  }
 },
 "nbformat": 4,
 "nbformat_minor": 2
}
